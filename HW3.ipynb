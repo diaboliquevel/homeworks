{
 "cells": [
  {
   "cell_type": "markdown",
   "metadata": {},
   "source": [
    "# Домашнее задание №3\n",
    "\n",
    "#### Задание №1 \n",
    "\n",
    "Скачайте текст [\"Литературных анекдотов\"](https://github.com/ancatmara/python-for-dh/blob/master/Classes/9-10/literary_anecdotes.txt). \n",
    "Напишите функцию, которая будет читать файл, лемматизировать текст с помощью `pymystem3` и записывать результат в новый файл. \n",
    "У функции должно бы два аргумента: путь к исходному файлу и путь к файлу с лемматизированным текстом. Вызов функции тоже должен быть прописан в решении.\n",
    "\n"
   ]
  },
  {
   "cell_type": "code",
   "execution_count": 5,
   "metadata": {},
   "outputs": [],
   "source": [
    "import re, json\n",
    "from pymystem3 import Mystem\n",
    "from collections import Counter"
   ]
  },
  {
   "cell_type": "code",
   "execution_count": 4,
   "metadata": {},
   "outputs": [],
   "source": [
    "# создаем функцию с двумя аргументами\n",
    "def f_lemmas(file_initial, file_outcome):\n",
    "\n",
    "\n",
    "    # читаем файл\n",
    "    with open(file_initial, 'r', encoding='cp1251') as f:\n",
    "        text = f.read()\n",
    "    \n",
    "    # лемматизируем текст\n",
    "    m = Mystem()\n",
    "    lemmas = m.lemmatize(text)\n",
    "    joined_lemmas= ''.join(lemmas)\n",
    "    \n",
    "    # записываем результат в новый файл\n",
    "    with open(file_outcome, 'w', encoding='cp1251') as f:\n",
    "        f.write(joined_lemmas)\n",
    "        \n",
    "    return joined_lemmas\n",
    "\n"
   ]
  },
  {
   "cell_type": "code",
   "execution_count": 5,
   "metadata": {},
   "outputs": [
    {
     "name": "stdout",
     "output_type": "stream",
     "text": [
      "Укажите путь к исходному файлу\n",
      "literary_anecdotes.txt\n",
      "Укажите путь к файлу с лемматизированным текстом\n",
      "lemmatized_anecdotes.txt\n"
     ]
    }
   ],
   "source": [
    "# вызываем функцию\n",
    "joined_lemmas = f_lemmas(input(\"Укажите путь к исходному файлу\\n\"), input(\"Укажите путь к файлу с лемматизированным текстом\\n\"))"
   ]
  },
  {
   "cell_type": "markdown",
   "metadata": {},
   "source": [
    "#### Задание №2\n",
    "Очистите лемматизированный текст от стоп-слов и посчитайте ipm для оставшихся. Выведите 20 самых частотных по этому параметру слов.\n"
   ]
  },
  {
   "cell_type": "code",
   "execution_count": 8,
   "metadata": {},
   "outputs": [
    {
     "ename": "NameError",
     "evalue": "name 'joined_lemmas' is not defined",
     "output_type": "error",
     "traceback": [
      "\u001b[1;31m---------------------------------------------------------------------------\u001b[0m",
      "\u001b[1;31mNameError\u001b[0m                                 Traceback (most recent call last)",
      "\u001b[1;32m<ipython-input-8-7324a52939a7>\u001b[0m in \u001b[0;36m<module>\u001b[1;34m()\u001b[0m\n\u001b[0;32m      1\u001b[0m \u001b[1;31m# очищаем лемматизированный текст от пунктуации\u001b[0m\u001b[1;33m\u001b[0m\u001b[1;33m\u001b[0m\u001b[0m\n\u001b[1;32m----> 2\u001b[1;33m \u001b[0mclean_lemmas\u001b[0m \u001b[1;33m=\u001b[0m \u001b[1;33m[\u001b[0m\u001b[0mw\u001b[0m\u001b[1;33m.\u001b[0m\u001b[0mstrip\u001b[0m\u001b[1;33m(\u001b[0m\u001b[1;34m\"!\\\"#$%&'()*+,./:;<=>?@[\\]^_`{|}~„“«»†*—/\\-—\"\u001b[0m\u001b[1;33m)\u001b[0m \u001b[1;32mfor\u001b[0m \u001b[0mw\u001b[0m \u001b[1;32min\u001b[0m \u001b[0mjoined_lemmas\u001b[0m\u001b[1;33m.\u001b[0m\u001b[0msplit\u001b[0m\u001b[1;33m(\u001b[0m\u001b[1;33m)\u001b[0m\u001b[1;33m]\u001b[0m\u001b[1;33m\u001b[0m\u001b[0m\n\u001b[0m\u001b[0;32m      3\u001b[0m \u001b[0mclean_lemmas\u001b[0m \u001b[1;33m=\u001b[0m \u001b[1;33m[\u001b[0m\u001b[0mw\u001b[0m \u001b[1;32mfor\u001b[0m \u001b[0mw\u001b[0m \u001b[1;32min\u001b[0m \u001b[0mclean_lemmas\u001b[0m \u001b[1;32mif\u001b[0m \u001b[0mlen\u001b[0m\u001b[1;33m(\u001b[0m\u001b[0mw\u001b[0m\u001b[1;33m)\u001b[0m \u001b[1;33m!=\u001b[0m \u001b[1;36m0\u001b[0m\u001b[1;33m]\u001b[0m\u001b[1;33m\u001b[0m\u001b[0m\n\u001b[0;32m      4\u001b[0m \u001b[0mprint\u001b[0m\u001b[1;33m(\u001b[0m\u001b[0mclean_lemmas\u001b[0m\u001b[1;33m[\u001b[0m\u001b[1;33m:\u001b[0m\u001b[1;36m10\u001b[0m\u001b[1;33m]\u001b[0m\u001b[1;33m)\u001b[0m\u001b[1;33m\u001b[0m\u001b[0m\n\u001b[0;32m      5\u001b[0m \u001b[1;33m\u001b[0m\u001b[0m\n",
      "\u001b[1;31mNameError\u001b[0m: name 'joined_lemmas' is not defined"
     ]
    }
   ],
   "source": [
    "# очищаем лемматизированный текст от пунктуации \n",
    "clean_lemmas = [w.strip(\"!\\\"#$%&'()*+,./:;<=>?@[\\]^_`{|}~„“«»†*—/\\-—\") for w in joined_lemmas.split()]\n",
    "clean_lemmas = [w for w in clean_lemmas if len(w) != 0]\n",
    "print(clean_lemmas[:10])\n",
    "\n",
    "# читаем список стоп-слов \n",
    "with open('rus_stopwords.txt', 'r', encoding='utf-8') as f:\n",
    "    stopwords = f.read()\n",
    "     \n",
    "# очищаем лемматизированный текст от стоп-слов  \n",
    "stopwords_s = stopwords.split('\\n')\n",
    "no_stopwords = [w for w in clean_lemmas if w not in stopwords_s]\n",
    "print(stopwords_s[:10])\n",
    "print(no_stopwords[:10])\n",
    "\n",
    "# считаем  ipm для оставшихся\n",
    "ipm_left = {}\n",
    "counts_l = Counter(no_stopwords)\n",
    "\n",
    "for k, v in counts_l.items():\n",
    "    ipm_left[k] = (v/len(text.split()))*1000000\n",
    "\n",
    "# выводим 20 самых частотных слов \n",
    "counts = Counter(no_stopwords)\n",
    "print(ipm_left.most_common(20))\n"
   ]
  },
  {
   "cell_type": "markdown",
   "metadata": {},
   "source": [
    "#### Задание №3\n",
    "Сделайте полный морфологический разбор исходного текста. Напишите регулярное выражение, которое будет извлекать из тега только часть речи.\n",
    "Пройдитесь циклом по списку с разборами, который выдал `pymystem3`, извлекая из каждого разбора форму слова и его часть речи и записывая их в новый словарь (форма -- ключ, часть речи -- значение).\n",
    "Посчитайте абсолютную частоту для всех частей речи, а затем относительнную частоту (абсолютная частота / длина текста в словах).\n",
    "\n"
   ]
  },
  {
   "cell_type": "code",
   "execution_count": 26,
   "metadata": {},
   "outputs": [],
   "source": [
    "# делаем полный морфологический разбор\n",
    "with open(\"literary_anecdotes.txt\", 'r', encoding='cp1251') as f:\n",
    "        text = f.read()\n",
    "        m = Mystem()\n",
    "        text_a = m.analyze(text)\n",
    "        \n",
    "# делаем словарь с грамматикой\n",
    "words = {}\n",
    "for word in text_a:\n",
    "    try:\n",
    "        form = word['text']\n",
    "        gr = word['analysis'][0]['gr']\n",
    "        words[form] = gr\n",
    "    except (KeyError, IndexError) as e :\n",
    "        pass\n",
    "    \n",
    "# извлекаем из тега только часть речи     \n",
    "pos = re.compile('[A-Z]+')\n",
    "\n",
    "# создаем словарь, извлекая из каждого разбора форму слова и его часть речи\n",
    "words_pos = {}\n",
    "for k, v in words.items():\n",
    "    words_pos[k] = pos.match(v).group(0)\n",
    "    \n",
    "\n",
    "    \n",
    "    "
   ]
  },
  {
   "cell_type": "code",
   "execution_count": 3,
   "metadata": {},
   "outputs": [],
   "source": [
    "# считаем абсолютную частоту для всех частей речи\n"
   ]
  },
  {
   "cell_type": "code",
   "execution_count": 39,
   "metadata": {
    "scrolled": true
   },
   "outputs": [],
   "source": [
    "# считаем относительную частоту для всех частей речи\n"
   ]
  },
  {
   "cell_type": "code",
   "execution_count": 9,
   "metadata": {},
   "outputs": [
    {
     "ename": "NameError",
     "evalue": "name 'text' is not defined",
     "output_type": "error",
     "traceback": [
      "\u001b[1;31m---------------------------------------------------------------------------\u001b[0m",
      "\u001b[1;31mNameError\u001b[0m                                 Traceback (most recent call last)",
      "\u001b[1;32m<ipython-input-9-3811deccc06f>\u001b[0m in \u001b[0;36m<module>\u001b[1;34m()\u001b[0m\n\u001b[0;32m      1\u001b[0m \u001b[1;31m# (для проверки) посмотрим, сколько всего слов в тексте\u001b[0m\u001b[1;33m\u001b[0m\u001b[1;33m\u001b[0m\u001b[0m\n\u001b[1;32m----> 2\u001b[1;33m \u001b[0mprint\u001b[0m\u001b[1;33m(\u001b[0m\u001b[0mlen\u001b[0m\u001b[1;33m(\u001b[0m\u001b[0mtext\u001b[0m\u001b[1;33m.\u001b[0m\u001b[0msplit\u001b[0m\u001b[1;33m(\u001b[0m\u001b[1;33m)\u001b[0m\u001b[1;33m)\u001b[0m\u001b[1;33m)\u001b[0m\u001b[1;33m\u001b[0m\u001b[0m\n\u001b[0m",
      "\u001b[1;31mNameError\u001b[0m: name 'text' is not defined"
     ]
    }
   ],
   "source": [
    "# (для проверки) посмотрим, сколько всего слов в тексте\n",
    "print(len(text.split()))"
   ]
  },
  {
   "cell_type": "code",
   "execution_count": null,
   "metadata": {},
   "outputs": [],
   "source": []
  }
 ],
 "metadata": {
  "kernelspec": {
   "display_name": "Python 3",
   "language": "python",
   "name": "python3"
  },
  "language_info": {
   "codemirror_mode": {
    "name": "ipython",
    "version": 3
   },
   "file_extension": ".py",
   "mimetype": "text/x-python",
   "name": "python",
   "nbconvert_exporter": "python",
   "pygments_lexer": "ipython3",
   "version": "3.7.0"
  }
 },
 "nbformat": 4,
 "nbformat_minor": 2
}
