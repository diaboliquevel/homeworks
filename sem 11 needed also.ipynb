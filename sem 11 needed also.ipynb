{
 "cells": [
  {
   "cell_type": "code",
   "execution_count": 1,
   "metadata": {},
   "outputs": [
    {
     "name": "stdout",
     "output_type": "stream",
     "text": [
      "<class 'list'>\n",
      "на бледно-голубой эмаль,\n",
      "какой мыслимый в апрель,\n",
      "береза ветвь подымать\n",
      "и незаметно вечерель\n",
      "\n"
     ]
    }
   ],
   "source": [
    "from pymystem3 import Mystem\n",
    "\n",
    "text = \"\"\"На бледно-голубой эмали,\n",
    "Какая мыслима в апреле,\n",
    "Березы ветви поднимали\n",
    "И незаметно вечерели\"\"\"\n",
    "\n",
    "m = Mystem()\n",
    "lemmas = m.lemmatize(text)\n",
    "\n",
    "print(type(lemmas)) # функция возвращает список\n",
    "print(''.join(lemmas))"
   ]
  },
  {
   "cell_type": "code",
   "execution_count": null,
   "metadata": {},
   "outputs": [],
   "source": [
    "with open('The_Captains_Daughter.txt', 'r', encoding='cp1251') as f:\n",
    "    text = f.read()\n",
    "from pymystem3 import Mystem\n",
    "m = Mystem()\n",
    "lemmas = m.lemmatize(text)\n",
    "clean_lemmas = [w for w in lemmas if w.isalpha()]\n",
    "\n",
    "#imnotsure\n",
    "from collections import Counter\n",
    "counts = Counter(lemmas)\n",
    "\n",
    "i = 0\n",
    "for k,v in counts.items ():\n",
    "    print (k,v)\n",
    "    i += 1\n",
    "    if i == 99:\n",
    "        break\n",
    "#forme\n",
    "print(lemmas[:100])\n",
    "print (counts.most_common(100))\n"
   ]
  },
  {
   "cell_type": "code",
   "execution_count": null,
   "metadata": {},
   "outputs": [],
   "source": [
    "#4\n",
    "stopwords = [\"и\", \"на\", \"в\"]\n",
    "no_stop_words = [w for w in clean_lemmas if w not in stopwords]"
   ]
  },
  {
   "cell_type": "code",
   "execution_count": null,
   "metadata": {},
   "outputs": [],
   "source": [
    "#5\n",
    "bigrams = []\n",
    "for i in range(len(clean_lemmas)-1):\n",
    "    bigram = (clean_lemmas [i], clean_lemmas [i+1])\n",
    "    bigrams.append(bigram)\n",
    "    \n",
    "bigram_counts = Counter(bigrams)\n",
    "print(bigram_counts.most_common(100))\n",
    "\n",
    "#6\n",
    "i = 0\n",
    "for v in counts.value():\n",
    "    if v < 6:\n",
    "        i += 1\n",
    "print(i)\n",
    "\n",
    "\n",
    "percent = i / len(clean_lemmas) * 100\n",
    "print(percent)\n",
    "\n",
    "#checknumberofactions\n",
    "one = [k for k in counts.keys() if counts[k] == 1]\n",
    "one[10:20]\n",
    "one = [k for k in counts.keys() if counts[k] == 2]\n",
    "one[10:20]\n",
    "one = [k for k in counts.keys() if counts[k] == 3]\n",
    "one[10:20]\n",
    "one = [k for k in counts.keys() if counts[k] == 4]\n",
    "one[10:20]\n",
    "one = [k for k in counts.keys() if counts[k] == 5]\n",
    "one[10:20]\n",
    "\n",
    "#выбросить все низкочастотные слова (с частотой меньше 6).\n",
    "#СДЕЛАЙ БЕЗ СТОП СЛОВ\n",
    "frequent_lemmas = []\n",
    "\n",
    "for l in clean_lemmas:\n",
    "    if counts[l] > 6:\n",
    "        frequent_lemmas.append(1)\n",
    "        \n",
    "frequent_lemmas[:10]\n",
    "\n",
    "\n",
    "#same\n",
    "freq_lemmas\n",
    "\n",
    "\n"
   ]
  }
 ],
 "metadata": {
  "kernelspec": {
   "display_name": "Python 3",
   "language": "python",
   "name": "python3"
  },
  "language_info": {
   "codemirror_mode": {
    "name": "ipython",
    "version": 3
   },
   "file_extension": ".py",
   "mimetype": "text/x-python",
   "name": "python",
   "nbconvert_exporter": "python",
   "pygments_lexer": "ipython3",
   "version": "3.7.0"
  }
 },
 "nbformat": 4,
 "nbformat_minor": 2
}
