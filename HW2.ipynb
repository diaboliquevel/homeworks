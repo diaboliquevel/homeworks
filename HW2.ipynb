{
 "cells": [
  {
   "cell_type": "code",
   "execution_count": 1,
   "metadata": {},
   "outputs": [
    {
     "name": "stdout",
     "output_type": "stream",
     "text": [
      "('варкалось', 'хливкие')\n",
      "('хливкие', 'шорьки')\n",
      "('шорьки', 'пырялись')\n",
      "('пырялись', 'по')\n",
      "('по', 'наве')\n",
      "('наве', 'и')\n",
      "('и', 'хрюкотали')\n",
      "('хрюкотали', 'зелюки')\n",
      "('зелюки', 'как')\n",
      "('как', 'мюмзики')\n",
      "('мюмзики', 'в')\n",
      "('в', 'мове')\n",
      "('мове', 'о')\n",
      "('о', 'бойся')\n",
      "('бойся', 'бармаглота')\n",
      "('бармаглота', 'сын')\n",
      "('сын', 'он')\n",
      "('он', 'так')\n",
      "('так', 'свирлеп')\n",
      "('свирлеп', 'и')\n",
      "('и', 'дик')\n",
      "('дик', 'а')\n",
      "('а', 'в')\n",
      "('в', 'глyще')\n",
      "('глyще', 'рымит')\n",
      "('рымит', 'исполин')\n",
      "('исполин', 'злопастный')\n",
      "('злопастный', 'брандашмыг')\n"
     ]
    }
   ],
   "source": [
    "#Задание 1\n",
    "text = \"\"\"варкалось хливкие шорьки пырялись по наве и хрюкотали зелюки как мюмзики в мове о бойся бармаглота сын он так свирлеп и дик а в глyще рымит исполин злопастный брандашмыг\"\"\"\n",
    "words = text.split()\n",
    "(len(words))\n",
    "bigrams = []\n",
    "for i in range(len(words)-1): \n",
    "    bigram = tuple([words[i], words[i + 1]]) \n",
    "    print(bigram)\n",
    "    bigrams.append(bigram)"
   ]
  },
  {
   "cell_type": "code",
   "execution_count": null,
   "metadata": {},
   "outputs": [],
   "source": [
    "#Задание 2\n",
    "import os\n",
    "\n",
    "print(os.getcwd())\n"
   ]
  },
  {
   "cell_type": "code",
   "execution_count": null,
   "metadata": {},
   "outputs": [],
   "source": []
  }
 ],
 "metadata": {
  "kernelspec": {
   "display_name": "Python 3",
   "language": "python",
   "name": "python3"
  },
  "language_info": {
   "codemirror_mode": {
    "name": "ipython",
    "version": 3
   },
   "file_extension": ".py",
   "mimetype": "text/x-python",
   "name": "python",
   "nbconvert_exporter": "python",
   "pygments_lexer": "ipython3",
   "version": "3.7.0"
  }
 },
 "nbformat": 4,
 "nbformat_minor": 2
}
