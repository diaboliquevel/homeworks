{
 "cells": [
  {
   "cell_type": "markdown",
   "metadata": {},
   "source": [
    "1.\tВозьмите английский текст \"Алисы\" из предыдущего семинара.\n",
    "•\tЛемматизируйте текст. Проверьте, выполняется ли здесь закон Ципфа. Для этого постройте линейную диаграмму, где по оси Х будет ранг (порядковый номер) слова в отсортированном частотном словаре, а по оси Y - относительная частота (не ipm, просто абсолютная частота, поделенная на количество слов в тексте).\n",
    "•\tОчистите текст от стоп-слов. Постройте barplot для 30 самых частотных слов. Эти слова должны быть по оси Х в виде подписей к делениям. Значениями по этой оси будет ряд чисел от 1 до 30.\n",
    "•\tПостройте scatterplot со значениями ipm по оси X и абсолютными частотами по оси Y для слов 'alice', 'unicorn', 'tweedledum', 'tweedledee', 'walrus', 'looking-glass'. Точки должны быть подписаны.\n",
    "2.\tВ файле nanai-vowels.csv находятся данные для нанайского языка. 7 носителей из двух разных деревень произносили разные слова с гласными i, ɪ (в данных зашифрованознаком I) и ə (в данных зашифровано знаком e). Данные представляют собой автоматически вынутые первую и вторую форманты. Выведите на графиках средние значения формант каждого звука в зависимости от деревни.\n"
   ]
  },
  {
   "cell_type": "code",
   "execution_count": null,
   "metadata": {},
   "outputs": [],
   "source": []
  },
  {
   "cell_type": "code",
   "execution_count": null,
   "metadata": {},
   "outputs": [],
   "source": []
  },
  {
   "cell_type": "code",
   "execution_count": null,
   "metadata": {},
   "outputs": [],
   "source": []
  }
 ],
 "metadata": {
  "kernelspec": {
   "display_name": "Python 3",
   "language": "python",
   "name": "python3"
  },
  "language_info": {
   "codemirror_mode": {
    "name": "ipython",
    "version": 3
   },
   "file_extension": ".py",
   "mimetype": "text/x-python",
   "name": "python",
   "nbconvert_exporter": "python",
   "pygments_lexer": "ipython3",
   "version": "3.7.0"
  }
 },
 "nbformat": 4,
 "nbformat_minor": 2
}
