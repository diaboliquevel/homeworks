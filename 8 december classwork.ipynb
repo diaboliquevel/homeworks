{
 "cells": [
  {
   "cell_type": "code",
   "execution_count": 2,
   "metadata": {},
   "outputs": [
    {
     "name": "stdout",
     "output_type": "stream",
     "text": [
      "showing info https://raw.githubusercontent.com/nltk/nltk_data/gh-pages/index.xml\n"
     ]
    },
    {
     "data": {
      "text/plain": [
       "True"
      ]
     },
     "execution_count": 2,
     "metadata": {},
     "output_type": "execute_result"
    }
   ],
   "source": [
    "import nltk\n",
    "nltk.download()"
   ]
  },
  {
   "cell_type": "markdown",
   "metadata": {},
   "source": [
    "Задание\n",
    "Скачайте файл с английским текстом \"Алисы в Зазеркалье\" из папки с семинаром.\n"
   ]
  },
  {
   "cell_type": "markdown",
   "metadata": {},
   "source": [
    "Очистите его от пунктуации и приведите к нижнему регистру\n"
   ]
  },
  {
   "cell_type": "code",
   "execution_count": 16,
   "metadata": {
    "scrolled": true
   },
   "outputs": [
    {
     "name": "stdout",
     "output_type": "stream",
     "text": [
      "['paw', 'she', 'rubbed', 'its', 'face', 'all', 'over', 'the', 'wrong', 'way', 'beginning', 'at', 'the', 'nose', 'and', 'just', 'now', 'as', 'I', 'said', 'she', 'was', 'hard', 'at', 'work', 'on', 'the', 'white', 'kitten', 'which', 'was', 'lying', 'quite', 'still', 'and', 'trying', 'to', 'purr', '', 'no', 'doubt', 'feeling', 'that', 'it', 'was', 'all', 'meant', 'for', 'its', 'good', 'But', 'the', 'black', 'kitten', 'had', 'been', 'finished', 'with', 'earlier', 'in', 'the', 'afternoon', 'and', 'so', 'while', 'Alice', 'was', 'sitting', 'curled', 'up', 'in', 'a', 'corner', 'of', 'the', 'great', 'arm-chair', 'half', 'talking', 'to', 'herself', 'and', 'half', 'asleep', 'the', 'kitten', 'had', 'been', 'having', 'a', 'grand', 'game', 'of', 'romps', 'with', 'the', 'ball', 'of', 'worsted', 'Alice', 'had', 'been', 'trying', 'to', 'wind', 'up', 'and', 'had', 'been', 'rolling', 'it', 'up', 'and', 'down', 'till', 'it', 'had', 'all', 'come', 'undone', 'again', 'and', 'there', 'it', 'was', 'spread', 'over', 'the', 'hearth-rug', 'all', 'knots', 'and', 'tangles', 'with', 'the', 'kitten', 'running', 'after', 'its', 'own', 'tail', 'in', 'the', 'middle', '‘Oh', 'you', 'wicked', 'little', 'thing!’', 'cried', 'Alice', 'catching', 'up', 'the', 'kitten', 'and', 'giving', 'it', 'a', 'little', 'kiss', 'to', 'make', 'it', 'understand', 'that', 'it', 'was', 'in', 'disgrace', '‘Really', 'Dinah', 'ought', 'to', 'have', 'taught', 'you', 'better', 'manners', 'You', 'OUGHT', 'Dinah', 'you', 'know', 'you', 'ought!’', 'she', 'added', 'looking', 'reproachfully', 'at', 'the', 'old', 'cat', 'and', 'speaking', 'in', 'as', 'cross', 'a', 'voice', 'as', 'she', 'could', 'manage', '', 'and', 'then', 'she', 'scrambled', 'back', 'into', 'the', 'arm-chair', 'taking', 'the', 'kitten', 'and', 'the', 'worsted', 'with', 'her', 'and', 'began', 'winding', 'up', 'the', 'ball', 'again', 'But', 'she', 'didn’t', 'get', 'on', 'very', 'fast', 'as', 'she', 'was', 'talking', 'all', 'the', 'time', 'sometimes', 'to', 'the', 'kitten', 'and', 'sometimes', 'to', 'herself', 'Kitty', 'sat', 'very', 'demurely', 'on', 'her', 'knee', 'pretending', 'to', 'watch', 'the', 'progress', 'of', 'the', 'winding', 'and', 'now', 'and', 'then', 'putting', 'out', 'one', 'paw', 'and', 'gently', 'touching', 'the', 'ball', 'as', 'if', 'it', 'would', 'be', 'glad', 'to', 'help', 'if', 'it', 'might', '‘Do', 'you', 'know', 'what', 'to-morrow', 'is', 'Kitty?’', 'Alice', 'began', '‘You’d', 'have', 'guessed', 'if', 'you’d', 'been', 'up', 'in', 'the', 'window', 'with', 'me', '', 'only', 'Dinah', 'was', 'making', 'you', 'tidy', 'so', 'you', 'couldn’t', 'I', 'was', 'watching', 'the', 'boys', 'getting', 'in', 'sticks', 'for', 'the', 'bonfire', '', 'and', 'it', 'wants', 'plenty', 'of', 'sticks', 'Kitty', 'Only', 'it', 'got', 'so', 'cold', 'and', 'it', 'snowed', 'so', 'they', 'had', 'to', 'leave', 'off', 'Never', 'mind', 'Kitty', 'we’ll', 'go', 'and', 'see', 'the', 'bonfire', 'to-morrow.’', 'Here', 'Alice', 'wound', 'two', 'or', 'three', 'turns', 'of', 'the', 'worsted', 'round', 'the', 'kitten’s', 'neck', 'just', 'to', 'see', 'how', 'it', 'would', 'look', 'this', 'led', 'to', 'a', 'scramble', 'in', 'which', 'the', 'ball', 'rolled', 'down', 'upon', 'the', 'floor', 'and']\n",
      "['paw', 'she', 'rubbed', 'its', 'face', 'all', 'over', 'the', 'wrong', 'way', 'beginning', 'at', 'the', 'nose', 'and', 'just', 'now', 'as', 'I', 'said', 'she', 'was', 'hard', 'at', 'work', 'on', 'the', 'white', 'kitten', 'which', 'was', 'lying', 'quite', 'still', 'and', 'trying', 'to', 'purr', '', 'no', 'doubt', 'feeling', 'that', 'it', 'was', 'all', 'meant', 'for', 'its', 'good', 'But', 'the', 'black', 'kitten', 'had', 'been', 'finished', 'with', 'earlier', 'in', 'the', 'afternoon', 'and', 'so', 'while', 'Alice', 'was', 'sitting', 'curled', 'up', 'in', 'a', 'corner', 'of', 'the', 'great', 'arm-chair', 'half', 'talking', 'to', 'herself', 'and', 'half', 'asleep', 'the', 'kitten', 'had', 'been', 'having', 'a', 'grand', 'game', 'of', 'romps', 'with', 'the', 'ball', 'of', 'worsted', 'Alice', 'had', 'been', 'trying', 'to', 'wind', 'up', 'and', 'had', 'been', 'rolling', 'it', 'up', 'and', 'down', 'till', 'it', 'had', 'all', 'come', 'undone', 'again', 'and', 'there', 'it', 'was', 'spread', 'over', 'the', 'hearth-rug', 'all', 'knots', 'and', 'tangles', 'with', 'the', 'kitten', 'running', 'after', 'its', 'own', 'tail', 'in', 'the', 'middle', '‘Oh', 'you', 'wicked', 'little', 'thing!’', 'cried', 'Alice', 'catching', 'up', 'the', 'kitten', 'and', 'giving', 'it', 'a', 'little', 'kiss', 'to', 'make', 'it', 'understand', 'that', 'it', 'was', 'in', 'disgrace', '‘Really', 'Dinah', 'ought', 'to', 'have', 'taught', 'you', 'better', 'manners', 'You', 'OUGHT', 'Dinah', 'you', 'know', 'you', 'ought!’', 'she', 'added', 'looking', 'reproachfully', 'at', 'the', 'old', 'cat', 'and', 'speaking', 'in', 'as', 'cross', 'a', 'voice', 'as', 'she', 'could', 'manage', '', 'and', 'then', 'she', 'scrambled', 'back', 'into', 'the', 'arm-chair', 'taking', 'the', 'kitten', 'and', 'the', 'worsted', 'with', 'her', 'and', 'began', 'winding', 'up', 'the', 'ball', 'again', 'But', 'she', 'didn’t', 'get', 'on', 'very', 'fast', 'as', 'she', 'was', 'talking', 'all', 'the', 'time', 'sometimes', 'to', 'the', 'kitten', 'and', 'sometimes', 'to', 'herself', 'Kitty', 'sat', 'very', 'demurely', 'on', 'her', 'knee', 'pretending', 'to', 'watch', 'the', 'progress', 'of', 'the', 'winding', 'and', 'now', 'and', 'then', 'putting', 'out', 'one', 'paw', 'and', 'gently', 'touching', 'the', 'ball', 'as', 'if', 'it', 'would', 'be', 'glad', 'to', 'help', 'if', 'it', 'might', '‘Do', 'you', 'know', 'what', 'to-morrow', 'is', 'Kitty?’', 'Alice', 'began', '‘You’d', 'have', 'guessed', 'if', 'you’d', 'been', 'up', 'in', 'the', 'window', 'with', 'me', '', 'only', 'Dinah', 'was', 'making', 'you', 'tidy', 'so', 'you', 'couldn’t', 'I', 'was', 'watching', 'the', 'boys', 'getting', 'in', 'sticks', 'for', 'the', 'bonfire', '', 'and', 'it', 'wants', 'plenty', 'of', 'sticks', 'Kitty', 'Only', 'it', 'got', 'so', 'cold', 'and', 'it', 'snowed', 'so', 'they', 'had', 'to', 'leave', 'off', 'Never', 'mind', 'Kitty', 'we’ll', 'go', 'and', 'see', 'the', 'bonfire', 'to-morrow.’', 'Here', 'Alice', 'wound', 'two', 'or', 'three', 'turns', 'of', 'the', 'worsted', 'round', 'the', 'kitten’s', 'neck', 'just', 'to', 'see', 'how', 'it', 'would', 'look', 'this', 'led', 'to', 'a', 'scramble', 'in', 'which', 'the', 'ball', 'rolled', 'down', 'upon', 'the', 'floor', 'and']\n"
     ]
    }
   ],
   "source": [
    "with open(\"alice.txt\", 'r', encoding='utf-8') as f:\n",
    "        text = f.read()\n",
    "        \n",
    "# очищаем от пунктуации\n",
    "        text_clean1 = [w.strip(\"!\\\"#$%&'()*+,./:;<=>?@[\\]^_`{|}~„“«»†*—/\\-—\") for w in text.split()] \n",
    "\n",
    "print(text_clean1[100:500])\n",
    "    \n",
    "# приведим к нижнему регистру\n",
    "text_clean2 = [w if w.islower() else w.lower()  for w in text_clean1]\n",
    "\n",
    "print(text_clean1[100:500])"
   ]
  },
  {
   "cell_type": "markdown",
   "metadata": {},
   "source": [
    "Разбейте на биграммы и на триграммы с помощью NLTK.\n"
   ]
  },
  {
   "cell_type": "markdown",
   "metadata": {},
   "source": [
    "Сделайте частеречную разметку текста и запишите в новый файл так, чтобы на каждой строке было одно слово и его тег.\n"
   ]
  },
  {
   "cell_type": "markdown",
   "metadata": {},
   "source": [
    "Лемматизируйте текст и запишите в новый файл.\n"
   ]
  },
  {
   "cell_type": "markdown",
   "metadata": {},
   "source": [
    "Очистите лемматизированный текст от стоп-слов и составьте частотный список слов. Выведите 30 самых частотных.\n"
   ]
  },
  {
   "cell_type": "markdown",
   "metadata": {},
   "source": [
    "Посчитайте ipm слов 'alice', 'unicorn', 'tweedledum', 'tweedledee', 'walrus', 'looking-glass'."
   ]
  }
 ],
 "metadata": {
  "kernelspec": {
   "display_name": "Python 3",
   "language": "python",
   "name": "python3"
  },
  "language_info": {
   "codemirror_mode": {
    "name": "ipython",
    "version": 3
   },
   "file_extension": ".py",
   "mimetype": "text/x-python",
   "name": "python",
   "nbconvert_exporter": "python",
   "pygments_lexer": "ipython3",
   "version": "3.7.0"
  }
 },
 "nbformat": 4,
 "nbformat_minor": 2
}
