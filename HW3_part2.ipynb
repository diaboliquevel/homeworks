{
 "cells": [
  {
   "cell_type": "code",
   "execution_count": 1,
   "metadata": {},
   "outputs": [],
   "source": [
    "import re, json\n",
    "from pymystem3 import Mystem\n",
    "from collections import Counter"
   ]
  },
  {
   "cell_type": "code",
   "execution_count": 2,
   "metadata": {},
   "outputs": [],
   "source": [
    "# создаем функцию с двумя аргументами\n",
    "def f_lemmas(file_initial, file_outcome):\n",
    "\n",
    "\n",
    "    # читаем файл\n",
    "    with open(file_initial, 'r', encoding='cp1251') as f:\n",
    "        text = f.read()\n",
    "    \n",
    "    # лемматизируем текст\n",
    "    m = Mystem()\n",
    "    lemmas = m.lemmatize(text)\n",
    "    joined_lemmas= ''.join(lemmas)\n",
    "    \n",
    "    # записываем результат в новый файл\n",
    "    with open(file_outcome, 'w', encoding='cp1251') as f:\n",
    "        f.write(joined_lemmas)\n",
    "        \n",
    "    return joined_lemmas"
   ]
  },
  {
   "cell_type": "code",
   "execution_count": null,
   "metadata": {},
   "outputs": [],
   "source": [
    "# вызываем функцию\n",
    "joined_lemmas = f_lemmas(input(\"Укажите путь к исходному файлу\\n\"), input(\"Укажите путь к файлу с лемматизированным текстом\\n\"))"
   ]
  },
  {
   "cell_type": "code",
   "execution_count": null,
   "metadata": {},
   "outputs": [],
   "source": [
    "# очищаем лемматизированный текст от пунктуации \n",
    "clean_lemmas = [w.strip(\"!\\\"#$%&'()*+,./:;<=>?@[\\]^_`{|}~„“«»†*—/\\-—\") for w in joined_lemmas.split()]\n",
    "clean_lemmas = [w for w in clean_lemmas if len(w) != 0]\n",
    "print(clean_lemmas[:10])\n",
    "\n",
    "# читаем список стоп-слов \n",
    "with open('rus_stopwords.txt', 'r', encoding='utf-8') as f:\n",
    "    stopwords = f.read()\n",
    "     \n",
    "# очищаем лемматизированный текст от стоп-слов  \n",
    "stopwords_s = stopwords.split('\\n')\n",
    "no_stopwords = [w for w in clean_lemmas if w not in stopwords_s]\n",
    "print(stopwords_s[:10])\n",
    "print(no_stopwords[:10])\n",
    "\n",
    "# считаем  ipm для оставшихся\n",
    "ipm_left = {}\n",
    "counts_l = Counter(no_stopwords)\n",
    "\n",
    "for k, v in counts_l.items():\n",
    "    ipm_left[k] = (v/len(text.split()))*1000000\n",
    "\n",
    "# выводим 20 самых частотных слов \n",
    "counts = Counter(no_stopwords)\n",
    "print(ipm_left.most_common(20))"
   ]
  },
  {
   "cell_type": "code",
   "execution_count": null,
   "metadata": {},
   "outputs": [],
   "source": [
    "# делаем полный морфологический разбор\n",
    "with open(\"literary_anecdotes.txt\", 'r', encoding='cp1251') as f:\n",
    "        text = f.read()\n",
    "        m = Mystem()\n",
    "        text_a = m.analyze(text)\n",
    "        \n",
    "# делаем словарь с грамматикой\n",
    "words = {}\n",
    "for word in text_a:\n",
    "    try:\n",
    "        form = word['text']\n",
    "        gr = word['analysis'][0]['gr']\n",
    "        words[form] = gr\n",
    "    except (KeyError, IndexError) as e :\n",
    "        pass\n",
    "    \n",
    "# извлекаем из тега только часть речи     \n",
    "pos = re.compile('[A-Z]+')\n",
    "\n",
    "# создаем словарь, извлекая из каждого разбора форму слова и его часть речи\n",
    "words_pos = {}\n",
    "for k, v in words.items():\n",
    "    words_pos[k] = pos.match(v).group(0)\n",
    "    \n",
    "return pos"
   ]
  },
  {
   "cell_type": "code",
   "execution_count": null,
   "metadata": {},
   "outputs": [],
   "source": [
    "# считаем абсолютную частоту для всех частей речи\n",
    "for_abs = str(pos)\n",
    "abs_counts = Counter(for_abs.split())\n",
    "print(abs_counts.most_common())"
   ]
  }
 ],
 "metadata": {
  "kernelspec": {
   "display_name": "Python 3",
   "language": "python",
   "name": "python3"
  },
  "language_info": {
   "codemirror_mode": {
    "name": "ipython",
    "version": 3
   },
   "file_extension": ".py",
   "mimetype": "text/x-python",
   "name": "python",
   "nbconvert_exporter": "python",
   "pygments_lexer": "ipython3",
   "version": "3.7.0"
  }
 },
 "nbformat": 4,
 "nbformat_minor": 2
}
